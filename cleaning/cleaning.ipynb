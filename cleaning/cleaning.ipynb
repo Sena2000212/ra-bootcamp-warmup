{
 "cells": [
  {
   "cell_type": "code",
   "execution_count": 1,
   "metadata": {
    "vscode": {
     "languageId": "r"
    }
   },
   "outputs": [
    {
     "name": "stderr",
     "output_type": "stream",
     "text": [
      "\n",
      "Attaching package: 'dplyr'\n",
      "\n",
      "\n",
      "The following objects are masked from 'package:stats':\n",
      "\n",
      "    filter, lag\n",
      "\n",
      "\n",
      "The following objects are masked from 'package:base':\n",
      "\n",
      "    intersect, setdiff, setequal, union\n",
      "\n",
      "\n"
     ]
    }
   ],
   "source": [
    "library(dplyr)\n",
    "library(tidyr)\n",
    "library(readxl)\n",
    "library(purrr)\n",
    "library(stringr)\n"
   ]
  },
  {
   "cell_type": "code",
   "execution_count": 2,
   "metadata": {
    "vscode": {
     "languageId": "r"
    }
   },
   "outputs": [],
   "source": [
    "#(a)1\n",
    "\n",
    "file1 <- \"01_data/semester_dummy/semester_data_1.csv\"\n",
    "file2 <- \"01_data/semester_dummy/semester_data_2.csv\"\n",
    "\n",
    "semester_dummy_1 <- read.csv(file1)\n",
    "semester_dummy_2 <- read.csv(file2)"
   ]
  },
  {
   "cell_type": "code",
   "execution_count": 3,
   "metadata": {
    "vscode": {
     "languageId": "r"
    }
   },
   "outputs": [],
   "source": [
    "#2・3\n",
    "\n",
    "#型を揃える\n",
    "semester_dummy_2 <- semester_dummy_2 %>%\n",
    "  mutate(across(where(is.integer), as.character))\n",
    "\n",
    "semester_dummy <- bind_rows(semester_dummy_1, semester_dummy_2)\n",
    "\n",
    "#1行目を列名に変換\n",
    "colnames(semester_dummy) <- as.character(unlist(semester_dummy[1, ]))\n",
    "semester_dummy <- semester_dummy[-1, ]"
   ]
  },
  {
   "cell_type": "code",
   "execution_count": 4,
   "metadata": {
    "vscode": {
     "languageId": "r"
    }
   },
   "outputs": [],
   "source": [
    "#4\n",
    "\n",
    "semester_dummy <- semester_dummy %>% select(-Y)"
   ]
  },
  {
   "cell_type": "code",
   "execution_count": 5,
   "metadata": {
    "vscode": {
     "languageId": "r"
    }
   },
   "outputs": [],
   "source": [
    "#5\n",
    "\n",
    "semester_dummy <- semester_dummy %>%\n",
    "  arrange(unitid, year) %>%\n",
    "  group_by(unitid) %>%\n",
    "  mutate(\n",
    "    prev_quarter = lag(quarter, default = first(quarter)),\n",
    "    first_quarter = first(quarter),\n",
    "    first_year = first(year),\n",
    "    transition_year_temp = case_when(\n",
    "      first_quarter == 0 & year == first_year ~ as.character(first_year),\n",
    "      prev_quarter == 1 & quarter == 0 ~ as.character(year),\n",
    "      TRUE ~ NA_character_\n",
    "    ),\n",
    "    transition_year = na.omit(transition_year_temp)[1]\n",
    "  ) %>%\n",
    "  fill(transition_year, .direction = \"downup\") %>%\n",
    "  ungroup() %>%\n",
    "  select(-prev_quarter, -first_quarter, -first_year, -transition_year_temp)"
   ]
  },
  {
   "cell_type": "code",
   "execution_count": 6,
   "metadata": {
    "vscode": {
     "languageId": "r"
    }
   },
   "outputs": [],
   "source": [
    "#6\n",
    "\n",
    "semester_dummy <- semester_dummy %>%\n",
    "  mutate(\n",
    "    introduction = ifelse(!is.na(transition_year) &\n",
    "                            year >= transition_year, 1, 0)\n",
    "  )"
   ]
  },
  {
   "cell_type": "code",
   "execution_count": 7,
   "metadata": {
    "vscode": {
     "languageId": "r"
    }
   },
   "outputs": [],
   "source": [
    "#(b)1\n",
    "\n",
    "#ディレクトリ内の全てのファイル名を取得\n",
    "file_path <- \"01_data/outcome/\"\n",
    "files <- list.files(path = file_path, pattern = \"*.xlsx\", full.names = TRUE)\n",
    "\n",
    "#各ファイルの年度情報を取得し、読み込んでリストに格納\n",
    "outcome_list <- map(files, function(file) {\n",
    "  #年度をファイル名から抽出\n",
    "  year <- as.numeric(gsub(\".*([0-9]{4}).xlsx\", \"\\\\1\", file))\n",
    "  #ファイルを読み込み\n",
    "  data <- read_excel(file)\n",
    "  #年度情報を追加\n",
    "  data <- mutate(data, year = year)\n",
    "  return(data)\n",
    "})\n",
    "\n",
    "outcome <- bind_rows(outcome_list)"
   ]
  },
  {
   "cell_type": "code",
   "execution_count": 8,
   "metadata": {
    "vscode": {
     "languageId": "r"
    }
   },
   "outputs": [],
   "source": [
    "#2\n",
    "\n",
    "outcome <- outcome %>%\n",
    "  mutate(women_gradrate_4yr_scale = women_gradrate_4yr * 0.01)"
   ]
  },
  {
   "cell_type": "code",
   "execution_count": 9,
   "metadata": {
    "vscode": {
     "languageId": "r"
    }
   },
   "outputs": [],
   "source": [
    "#3・4\n",
    "\n",
    "#chrのデータを数値に変換\n",
    "outcome <- outcome %>%\n",
    "  mutate(across(where(is.character), as.numeric))\n",
    "\n",
    "#新しい変数を作成し、有効数字3桁に設定\n",
    "outcome <- outcome %>%\n",
    "  mutate(\n",
    "    women_gradrate_4yr_scale = round(women_gradrate_4yr * 0.01, 3),\n",
    "    men_gradrate_4yr = round((m_4yrgrads / m_cohortsize) * 100, 3),\n",
    "    total_gradrate_4yr = round((tot4yrgrads / totcohortsize) * 100, 3)\n",
    "  )"
   ]
  },
  {
   "cell_type": "code",
   "execution_count": 10,
   "metadata": {
    "vscode": {
     "languageId": "r"
    }
   },
   "outputs": [],
   "source": [
    "#5\n",
    "\n",
    "outcome <- outcome %>%\n",
    "  filter(year >= 1991 & year <= 2010)"
   ]
  },
  {
   "cell_type": "code",
   "execution_count": 11,
   "metadata": {
    "vscode": {
     "languageId": "r"
    }
   },
   "outputs": [],
   "source": [
    "#(c)1\n",
    "\n",
    "covariates <- read_excel(\"01_data/covariates.xlsx\")"
   ]
  },
  {
   "cell_type": "code",
   "execution_count": 12,
   "metadata": {
    "vscode": {
     "languageId": "r"
    }
   },
   "outputs": [],
   "source": [
    "covariates <- covariates %>%\n",
    "  #2\n",
    "  rename(unitid = university_id) %>%\n",
    "  #3\n",
    "  mutate(unitid = str_replace_all(unitid, \"aaaa\", \"\")) %>%\n",
    "  #4\n",
    "  pivot_wider(names_from = category, values_from = value)"
   ]
  },
  {
   "cell_type": "code",
   "execution_count": 13,
   "metadata": {
    "vscode": {
     "languageId": "r"
    }
   },
   "outputs": [],
   "source": [
    "#5\n",
    "\n",
    "outcome_year_range <- range(outcome$year, na.rm = TRUE)\n",
    "semester_dummy_year_range <- range(semester_dummy$year, na.rm = TRUE)\n",
    "\n",
    "covariates <- covariates %>%\n",
    "  filter(year >= min(outcome_year_range[1], semester_dummy_year_range[1]) &\n",
    "           year <= max(outcome_year_range[2], semester_dummy_year_range[2]))\n"
   ]
  },
  {
   "cell_type": "code",
   "execution_count": 14,
   "metadata": {
    "vscode": {
     "languageId": "r"
    }
   },
   "outputs": [],
   "source": [
    "#6\n",
    "\n",
    "outcome_unitids <- unique(outcome$unitid)\n",
    "covariates <- covariates %>%\n",
    "  filter(unitid %in% outcome_unitids)"
   ]
  },
  {
   "cell_type": "code",
   "execution_count": 15,
   "metadata": {
    "vscode": {
     "languageId": "r"
    }
   },
   "outputs": [],
   "source": [
    "#(d)\n",
    "\n",
    "#数値型に変換\n",
    "covariates <- covariates %>%\n",
    "  mutate(unitid = as.numeric(unitid), year = as.numeric(year))\n",
    "semester_dummy <- semester_dummy %>%\n",
    "  mutate(unitid = as.numeric(unitid), year = as.numeric(year))\n",
    "outcome <- outcome %>%\n",
    "  mutate(unitid = as.numeric(unitid), year = as.numeric(year))\n",
    "\n",
    "master <- covariates %>%\n",
    "  full_join(semester_dummy, by = c(\"unitid\", \"year\")) %>%\n",
    "  full_join(outcome, by = c(\"unitid\", \"year\"))\n",
    "\n",
    "write.csv(master, \"master.csv\", row.names = TRUE)"
   ]
  }
 ],
 "metadata": {
  "kernelspec": {
   "display_name": "R",
   "language": "R",
   "name": "ir"
  },
  "language_info": {
   "codemirror_mode": "r",
   "file_extension": ".r",
   "mimetype": "text/x-r-source",
   "name": "R",
   "pygments_lexer": "r",
   "version": "4.3.3"
  }
 },
 "nbformat": 4,
 "nbformat_minor": 2
}
